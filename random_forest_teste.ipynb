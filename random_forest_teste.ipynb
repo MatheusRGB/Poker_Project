{
 "cells": [
  {
   "cell_type": "code",
   "execution_count": 31,
   "metadata": {
    "colab": {
     "base_uri": "https://localhost:8080/",
     "height": 107
    },
    "id": "gsK4CI2CoNac",
    "outputId": "ef564ce2-99ba-418d-adbe-44fa72dd4301"
   },
   "outputs": [
    {
     "name": "stdout",
     "output_type": "stream",
     "text": [
      "\n",
      "Treinando no Dataset 1\n",
      "Acurácias: [0.5 0.6 0.7 0.5 0.9]\n",
      "Média da Acurácia: 0.6400\n",
      "\n",
      "Treinando no Dataset 2\n",
      "Acurácias: [0.8 0.8 0.7 0.7 0.6]\n",
      "Média da Acurácia: 0.7200\n",
      "\n",
      "Treinando no Dataset 3\n",
      "Acurácias: [0.64285714 0.88095238 0.95238095 0.92857143 0.90243902]\n",
      "Média da Acurácia: 0.8614\n",
      "\n",
      "Treinando no Dataset 4\n",
      "Acurácias: [0.64285714 0.9047619  0.97619048 0.97619048 0.95121951]\n",
      "Média da Acurácia: 0.8902\n",
      "\n",
      "Treinando no Dataset 5\n",
      "Acurácias: [0.57142857 0.71428571 0.85714286 0.9047619  0.87804878]\n",
      "Média da Acurácia: 0.7851\n",
      "\n",
      "Treinando no Dataset 6\n",
      "Acurácias: [0.64285714 0.88095238 0.92857143 0.95238095 0.90243902]\n",
      "Média da Acurácia: 0.8614\n",
      "\n",
      "Treinando no Dataset 7\n",
      "Acurácias: [0.61904762 0.83333333 0.92857143 0.95238095 0.90243902]\n",
      "Média da Acurácia: 0.8472\n"
     ]
    }
   ],
   "source": [
    "import pandas as pd\n",
    "from sklearn.ensemble import RandomForestClassifier\n",
    "from sklearn.metrics import accuracy_score, classification_report, confusion_matrix\n",
    "from sklearn.model_selection import cross_val_score\n",
    "import numpy as np\n",
    "\n",
    "df = pd.read_csv(\"poker-matches-dataset.csv\")\n",
    "data = pd.read_csv('games.csv')\n",
    "data_2 = pd.read_csv('games_2.csv')\n",
    "\n",
    "\n",
    "X = data[['Score']]\n",
    "y = data['Resultado']\n",
    "\n",
    "X_2 = data_2[['Score', 'Apostadores', 'Desistentes']]\n",
    "y_2 = data_2['Resultado']\n",
    "\n",
    "X_3 = df.drop(columns=['Continuar'])  \n",
    "y_3 = df['Continuar']      \n",
    "\n",
    "X_4 = df.drop(columns=['Continuar', 'Aposta Necessaria', 'Jackpot'])\n",
    "\n",
    "X_5 = df.drop(columns=['Continuar', 'Jogadores Restantes', 'Desistentes'])\n",
    "\n",
    "X_6 = df.drop(columns=['Continuar', 'Perfil', 'Aposta Necessaria'])\n",
    "\n",
    "X_7 = df.drop(columns=['Continuar', 'Perfil', 'Aposta Necessaria', 'Jackpot'])\n",
    "\n",
    "y_4 = y_5 = y_6 = y_7 = y_3\n",
    "\n",
    "k = 5\n",
    "\n",
    "#Score, Perfil, Jogadores Restantes ,Desistentes,\n",
    "\n",
    "datasets = [\n",
    "    (X, y),\n",
    "    (X_2, y_2),\n",
    "    (X_3, y_3),\n",
    "    (X_4, y_4),\n",
    "    (X_5, y_5),\n",
    "    (X_6, y_6),\n",
    "    (X_7, y_7)\n",
    "]\n",
    "\n",
    "rf_model = RandomForestClassifier(n_estimators=100, random_state=42)\n",
    "\n",
    "results = []\n",
    "feature_importances = []\n",
    "\n",
    "for i, (X, y) in enumerate(datasets):\n",
    "    print(f\"\\nTreinando no Dataset {i + 1}\")\n",
    "    scores = cross_val_score(rf_model, X, y, cv=k, scoring='accuracy')\n",
    "    results.append(scores)\n",
    "\n",
    "    rf_model.fit(X, y)\n",
    "    feature_importances.append(rf_model.feature_importances_)\n",
    "\n",
    "    print(f\"Acurácias: {scores}\")\n",
    "    print(f\"Média da Acurácia: {np.mean(scores):.4f}\")\n",
    "\n"
   ]
  },
  {
   "cell_type": "code",
   "execution_count": 28,
   "metadata": {},
   "outputs": [
    {
     "name": "stdout",
     "output_type": "stream",
     "text": [
      "\n",
      "Teste de Friedman:\n",
      "Estatística: 17.67857142857142\n",
      "p-valor: 0.0033774294778155544\n",
      "Há diferenças estatisticamente significativas entre os datasets.\n"
     ]
    }
   ],
   "source": [
    "from scipy.stats import friedmanchisquare\n",
    "\n",
    "# Executar o Teste de Friedman para comparar as acurácias\n",
    "friedman_stat, friedman_p = friedmanchisquare(*results)\n",
    "print(\"\\nTeste de Friedman:\")\n",
    "print(\"Estatística:\", friedman_stat)\n",
    "print(\"p-valor:\", friedman_p)\n",
    "\n",
    "if friedman_p < 0.05:\n",
    "    print(\"Há diferenças estatisticamente significativas entre os datasets.\")\n",
    "else:\n",
    "    print(\"Não há diferenças estatisticamente significativas entre os datasets.\")\n"
   ]
  },
  {
   "cell_type": "code",
   "execution_count": 32,
   "metadata": {},
   "outputs": [
    {
     "name": "stdout",
     "output_type": "stream",
     "text": [
      "Estatística de Friedman: 21.671641791044767, valor p: 0.001388413166224705\n",
      "Rankings médios: [1.2 3.8 4.  4.4 5.2 5.8 3.6]\n",
      "Resultados do teste de Nemenyi:\n",
      "          0         1         2         3         4         5         6\n",
      "0  1.000000  0.948498  0.115564  0.003579  0.994704  0.115564  0.339140\n",
      "1  0.948498  1.000000  0.675740  0.096148  0.999812  0.675740  0.928962\n",
      "2  0.115564  0.675740  1.000000  0.928962  0.429896  1.000000  0.998694\n",
      "3  0.003579  0.096148  0.928962  1.000000  0.034460  0.928962  0.675740\n",
      "4  0.994704  0.999812  0.429896  0.034460  1.000000  0.429896  0.766379\n",
      "5  0.115564  0.675740  1.000000  0.928962  0.429896  1.000000  0.998694\n",
      "6  0.339140  0.928962  0.998694  0.675740  0.766379  0.998694  1.000000\n"
     ]
    },
    {
     "name": "stderr",
     "output_type": "stream",
     "text": [
      "c:\\Users\\rapha\\AppData\\Local\\Programs\\Python\\Python312\\Lib\\site-packages\\numpy\\core\\fromnumeric.py:59: FutureWarning: 'Series.swapaxes' is deprecated and will be removed in a future version. Please use 'Series.transpose' instead.\n",
      "  return bound(*args, **kwds)\n"
     ]
    },
    {
     "data": {
      "image/png": "[encoded data removed]",
      "text/plain": [
       "<Figure size 1000x200 with 1 Axes>"
      ]
     },
     "metadata": {},
     "output_type": "display_data"
    }
   ],
   "source": [
    "import numpy as np\n",
    "import matplotlib.pyplot as plt\n",
    "from scipy.stats import friedmanchisquare, rankdata\n",
    "import scikit_posthocs as sp\n",
    "\n",
    "scores = np.array(results).T  \n",
    "\n",
    "stat, p_value = friedmanchisquare(*scores.T)\n",
    "print(f\"Estatística de Friedman: {stat}, valor p: {p_value}\")\n",
    "\n",
    "mean_ranks = np.mean(scores.argsort(axis=1), axis=0) + 1\n",
    "print(f\"Rankings médios: {mean_ranks}\")\n",
    "\n",
    "result = sp.posthoc_nemenyi_friedman(scores)\n",
    "print(\"Resultados do teste de Nemenyi:\")\n",
    "print(result)\n",
    "\n",
    "plt.figure(figsize=(10, 2), dpi=100)\n",
    "plt.title('Critical difference diagram of average accuracy ranks')\n",
    "sp.critical_difference_diagram(mean_ranks, result)\n",
    "plt.show()\n"
   ]
  },
  {
   "cell_type": "code",
   "execution_count": 33,
   "metadata": {},
   "outputs": [
    {
     "data": {
      "text/plain": [
       "[array([1.]),\n",
       " array([0.38759446, 0.28892953, 0.32347601]),\n",
       " array([0.14374497, 0.088355  , 0.24146677, 0.27373217, 0.06947774,\n",
       "        0.18322335]),\n",
       " array([0.41055567, 0.17701738, 0.10996487, 0.30246209]),\n",
       " array([0.18198789, 0.10918212, 0.3266238 , 0.38220619]),\n",
       " array([0.21265778, 0.50384749, 0.08323758, 0.20025715]),\n",
       " array([0.49427118, 0.17005553, 0.3356733 ])]"
      ]
     },
     "execution_count": 33,
     "metadata": {},
     "output_type": "execute_result"
    }
   ],
   "source": [
    "feature_importances"
   ]
  },
  {
   "cell_type": "code",
   "execution_count": 21,
   "metadata": {},
   "outputs": [
    {
     "data": {
      "text/plain": [
       "'print(\"\\nBase 1\")\\nprint(f\\'\\nAcurácias por fold: {k_fold}\\')\\nprint(f\\'Acurácia média: {k_fold.mean():.2f}\\')\\nprint(\"\\nBase 2\")\\nprint(f\\'\\nAcurácias por fold: {k_fold_2}\\')\\nprint(f\\'Acurácia média: {k_fold_2.mean():.2f}\\')\\nprint(\"\\nBase 3\")\\nprint(f\\'\\nAcurácias por fold: {k_fold_3}\\')\\nprint(f\\'Acurácia média: {k_fold_3.mean():.2f}\\')'"
      ]
     },
     "execution_count": 21,
     "metadata": {},
     "output_type": "execute_result"
    }
   ],
   "source": [
    "\n",
    "'''print(\"\\nBase 1\")\n",
    "print(f'\\nAcurácias por fold: {k_fold}')\n",
    "print(f'Acurácia média: {k_fold.mean():.2f}')\n",
    "print(\"\\nBase 2\")\n",
    "print(f'\\nAcurácias por fold: {k_fold_2}')\n",
    "print(f'Acurácia média: {k_fold_2.mean():.2f}')\n",
    "print(\"\\nBase 3\")\n",
    "print(f'\\nAcurácias por fold: {k_fold_3}')\n",
    "print(f'Acurácia média: {k_fold_3.mean():.2f}')'''"
   ]
  },
  {
   "cell_type": "code",
   "execution_count": 22,
   "metadata": {
    "colab": {
     "base_uri": "https://localhost:8080/"
    },
    "id": "UNUVyoW_rOPg",
    "outputId": "b0dc1db8-e366-4ebf-bc5e-3e6fbb8c6225"
   },
   "outputs": [
    {
     "data": {
      "text/plain": [
       "'\\nprint(\"\\n========= Base 1 =========\")\\nimportances = decision_model_3.feature_importances_\\nfor feature, importance in zip(X.columns, importances):\\n    print(f\\'{feature}: {importance:.2f}\\')\\n\\nprint(\"\\n========= Base 2 =========\")\\nimportances = decision_model_3.feature_importances_\\nfor feature, importance in zip(X_2.columns, importances):\\n    print(f\\'{feature}: {importance:.2f}\\')\\n\\nprint(\"\\n========= Base 3 =========\")\\nimportances = decision_model_3.feature_importances_\\nfor feature, importance in zip(X_3.columns, importances):\\n    print(f\\'{feature}: {importance:.2f}\\')'"
      ]
     },
     "execution_count": 22,
     "metadata": {},
     "output_type": "execute_result"
    }
   ],
   "source": [
    "'''\n",
    "print(\"\\n========= Base 1 =========\")\n",
    "importances = decision_model_3.feature_importances_\n",
    "for feature, importance in zip(X.columns, importances):\n",
    "    print(f'{feature}: {importance:.2f}')\n",
    "\n",
    "print(\"\\n========= Base 2 =========\")\n",
    "importances = decision_model_3.feature_importances_\n",
    "for feature, importance in zip(X_2.columns, importances):\n",
    "    print(f'{feature}: {importance:.2f}')\n",
    "\n",
    "print(\"\\n========= Base 3 =========\")\n",
    "importances = decision_model_3.feature_importances_\n",
    "for feature, importance in zip(X_3.columns, importances):\n",
    "    print(f'{feature}: {importance:.2f}')'''"
   ]
  },
  {
   "cell_type": "code",
   "execution_count": 23,
   "metadata": {},
   "outputs": [],
   "source": [
    "from joblib import dump\n",
    "\n",
    "#dump(decision_model_3, \"modelos/random_forest_model83%.joblib\")\n",
    "#print(\"Modelo salvo com sucesso!\")"
   ]
  }
 ],
 "metadata": {
  "colab": {
   "provenance": []
  },
  "kernelspec": {
   "display_name": "Python 3",
   "name": "python3"
  },
  "language_info": {
   "codemirror_mode": {
    "name": "ipython",
    "version": 3
   },
   "file_extension": ".py",
   "mimetype": "text/x-python",
   "name": "python",
   "nbconvert_exporter": "python",
   "pygments_lexer": "ipython3",
   "version": "3.12.7"
  }
 },
 "nbformat": 4,
 "nbformat_minor": 0
}
