{
 "cells": [
  {
   "cell_type": "code",
   "execution_count": 3,
   "metadata": {
    "colab": {
     "base_uri": "https://localhost:8080/",
     "height": 107
    },
    "id": "gsK4CI2CoNac",
    "outputId": "ef564ce2-99ba-418d-adbe-44fa72dd4301"
   },
   "outputs": [
    {
     "name": "stdout",
     "output_type": "stream",
     "text": [
      "DataFrame does not contain duplicate rows.\n"
     ]
    }
   ],
   "source": [
    "\n",
    "\n",
    "import io\n",
    "import pandas as pd\n",
    "\n",
    "\n",
    "\n",
    "df = pd.read_csv(\"poker-matches-dataset.csv\")\n",
    "\n",
    "# Check for duplicate rows\n",
    "duplicate_rows = df[df.duplicated()]\n",
    "\n",
    "if not duplicate_rows.empty:\n",
    "  print(\"DataFrame contains duplicate rows:\")\n",
    "  print(duplicate_rows)\n",
    "else:\n",
    "  print(\"DataFrame does not contain duplicate rows.\")"
   ]
  },
  {
   "cell_type": "code",
   "execution_count": 5,
   "metadata": {
    "id": "fgXzzwlZqudZ"
   },
   "outputs": [],
   "source": [
    "X = df.drop(columns=['Continuar'])  # Remova a coluna \"continuar\" das features\n",
    "y = df['Continuar']                # Essa é a variável alvo\n"
   ]
  },
  {
   "cell_type": "code",
   "execution_count": 6,
   "metadata": {
    "id": "t5y_v92Tqu-J"
   },
   "outputs": [],
   "source": [
    "from sklearn.model_selection import train_test_split\n",
    "\n",
    "X_train, X_test, y_train, y_test = train_test_split(X, y, test_size=0.2, random_state=42)\n"
   ]
  },
  {
   "cell_type": "code",
   "execution_count": 7,
   "metadata": {
    "colab": {
     "base_uri": "https://localhost:8080/"
    },
    "id": "UNUVyoW_rOPg",
    "outputId": "b0dc1db8-e366-4ebf-bc5e-3e6fbb8c6225"
   },
   "outputs": [
    {
     "name": "stdout",
     "output_type": "stream",
     "text": [
      "Acurácia: 0.83\n",
      "\n",
      "Relatório de Classificação:\n",
      "              precision    recall  f1-score   support\n",
      "\n",
      "           0       0.75      0.55      0.63        11\n",
      "           1       0.85      0.94      0.89        31\n",
      "\n",
      "    accuracy                           0.83        42\n",
      "   macro avg       0.80      0.74      0.76        42\n",
      "weighted avg       0.83      0.83      0.82        42\n",
      "\n",
      "\n",
      "Matriz de Confusão:\n",
      "[[ 6  5]\n",
      " [ 2 29]]\n",
      "Score: 0.15\n",
      "Perfil: 0.08\n",
      "Aposta Necessaria: 0.22\n",
      "Jackpot: 0.26\n",
      "Jogadores Restantes: 0.11\n",
      "Desistentes: 0.18\n"
     ]
    }
   ],
   "source": [
    "import pandas as pd\n",
    "from sklearn.ensemble import RandomForestClassifier\n",
    "from sklearn.model_selection import train_test_split\n",
    "from sklearn.metrics import accuracy_score, classification_report, confusion_matrix\n",
    "from sklearn.preprocessing import StandardScaler\n",
    "\n",
    "# Criar e treinar o modelo Random Forest\n",
    "random_forest = RandomForestClassifier(n_estimators=100, random_state=42)\n",
    "random_forest.fit(X_train, y_train)\n",
    "\n",
    "# Fazer previsões\n",
    "y_pred = random_forest.predict(X_test)\n",
    "\n",
    "# Avaliar o modelo\n",
    "accuracy = accuracy_score(y_test, y_pred)\n",
    "print(f'Acurácia: {accuracy:.2f}')\n",
    "print(\"\\nRelatório de Classificação:\")\n",
    "print(classification_report(y_test, y_pred))\n",
    "print(\"\\nMatriz de Confusão:\")\n",
    "print(confusion_matrix(y_test, y_pred))\n",
    "\n",
    "# Importâncias das características\n",
    "importances = random_forest.feature_importances_\n",
    "for feature, importance in zip(X.columns, importances):\n",
    "    print(f'{feature}: {importance:.2f}')"
   ]
  },
  {
   "cell_type": "code",
   "execution_count": 9,
   "metadata": {},
   "outputs": [
    {
     "name": "stdout",
     "output_type": "stream",
     "text": [
      "Modelo salvo com sucesso!\n"
     ]
    }
   ],
   "source": [
    "from sklearn.ensemble import RandomForestClassifier\n",
    "from sklearn.datasets import make_classification\n",
    "from joblib import dump\n",
    "\n",
    "\n",
    "# Salvando o modelo no arquivo \"random_forest_model.joblib\"\n",
    "dump(random_forest, \"modelos/random_forest_model83%.joblib\")\n",
    "print(\"Modelo salvo com sucesso!\")\n"
   ]
  }
 ],
 "metadata": {
  "colab": {
   "provenance": []
  },
  "kernelspec": {
   "display_name": "Python 3",
   "name": "python3"
  },
  "language_info": {
   "codemirror_mode": {
    "name": "ipython",
    "version": 3
   },
   "file_extension": ".py",
   "mimetype": "text/x-python",
   "name": "python",
   "nbconvert_exporter": "python",
   "pygments_lexer": "ipython3",
   "version": "3.12.7"
  }
 },
 "nbformat": 4,
 "nbformat_minor": 0
}
